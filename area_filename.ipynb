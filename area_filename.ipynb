{
 "cells": [
  {
   "cell_type": "code",
   "execution_count": 2,
   "metadata": {},
   "outputs": [
    {
     "name": "stdout",
     "output_type": "stream",
     "text": [
      "The radius of a circle:2\n",
      "The area of the circle with radius 2.0 is:12.56\n"
     ]
    }
   ],
   "source": [
    "pi=3.14\n",
    "r=float(input(\"The radius of a circle:\"))\n",
    "print(\"The area of the circle with radius \" + str(r) + \" is:\" + str(pi*r**2))"
   ]
  },
  {
   "cell_type": "code",
   "execution_count": 7,
   "metadata": {},
   "outputs": [
    {
     "name": "stdout",
     "output_type": "stream",
     "text": [
      "input the filename:text.py\n",
      "The extension of the file is: 'py'\n"
     ]
    }
   ],
   "source": [
    "filename=input(\"input the filename:\")\n",
    "f_extns=filename.split(\".\")\n",
    "print (\"The extension of the file is: \" + repr(f_extns[-1]))"
   ]
  }
 ],
 "metadata": {
  "kernelspec": {
   "display_name": "Python 3",
   "language": "python",
   "name": "python3"
  },
  "language_info": {
   "codemirror_mode": {
    "name": "ipython",
    "version": 3
   },
   "file_extension": ".py",
   "mimetype": "text/x-python",
   "name": "python",
   "nbconvert_exporter": "python",
   "pygments_lexer": "ipython3",
   "version": "3.7.7"
  }
 },
 "nbformat": 4,
 "nbformat_minor": 4
}
